{
 "cells": [
  {
   "cell_type": "markdown",
   "metadata": {},
   "source": [
    "# Retrieval-augmented Generation with Zilliz Cloud and Langchain\n",
    "\n",
    "This guide demonstrates how to build an LLM-based Retrieval-augmented Generation using Zilliz Cloud and Langchain by setting up a question-answering application over a specific set of documents.\n",
    "\n",
    "For this example, we will use a 1 CU cluster from Zilliz Cloud.\n",
    "\n",
    "## Before you start\n",
    "\n",
    "Code snippets on this page require **pymilvus** and **langchain** to be installed. Additionally, OpenAI's embedding API has been used to embed documents into the vector store, so **openai** and **tiktoken** are also required. If these packages are not already installed on your system, run the following commands to install them."
   ]
  },
  {
   "cell_type": "code",
   "execution_count": 1,
   "metadata": {},
   "outputs": [
    {
     "name": "stdout",
     "output_type": "stream",
     "text": [
      "Requirement already satisfied: pymilvus in /Users/zilliz/miniforge3/lib/python3.10/site-packages (2.3.2)\n",
      "Requirement already satisfied: langchain in /Users/zilliz/miniforge3/lib/python3.10/site-packages (0.0.327)\n",
      "Requirement already satisfied: openai in /Users/zilliz/miniforge3/lib/python3.10/site-packages (0.27.8)\n",
      "Collecting openai\n",
      "  Downloading openai-0.28.1-py3-none-any.whl (76 kB)\n",
      "\u001b[2K     \u001b[90m━━━━━━━━━━━━━━━━━━━━━━━━━━━━━━━━━━━━━━━━\u001b[0m \u001b[32m77.0/77.0 kB\u001b[0m \u001b[31m1.0 MB/s\u001b[0m eta \u001b[36m0:00:00\u001b[0ma \u001b[36m0:00:01\u001b[0m\n",
      "\u001b[?25hRequirement already satisfied: tiktoken in /Users/zilliz/miniforge3/lib/python3.10/site-packages (0.4.0)\n",
      "Collecting tiktoken\n",
      "  Downloading tiktoken-0.5.1-cp310-cp310-macosx_11_0_arm64.whl (924 kB)\n",
      "\u001b[2K     \u001b[90m━━━━━━━━━━━━━━━━━━━━━━━━━━━━━━━━━━━━━\u001b[0m \u001b[32m924.4/924.4 kB\u001b[0m \u001b[31m379.8 kB/s\u001b[0m eta \u001b[36m0:00:00\u001b[0ma \u001b[36m0:00:01\u001b[0m\n",
      "\u001b[?25hRequirement already satisfied: grpcio<=1.58.0,>=1.49.1 in /Users/zilliz/miniforge3/lib/python3.10/site-packages (from pymilvus) (1.58.0)\n",
      "Requirement already satisfied: protobuf>=3.20.0 in /Users/zilliz/miniforge3/lib/python3.10/site-packages (from pymilvus) (4.25.0)\n",
      "Requirement already satisfied: environs<=9.5.0 in /Users/zilliz/miniforge3/lib/python3.10/site-packages (from pymilvus) (9.5.0)\n",
      "Requirement already satisfied: ujson>=2.0.0 in /Users/zilliz/miniforge3/lib/python3.10/site-packages (from pymilvus) (5.8.0)\n",
      "Requirement already satisfied: pandas>=1.2.4 in /Users/zilliz/miniforge3/lib/python3.10/site-packages (from pymilvus) (1.5.3)\n",
      "Requirement already satisfied: requests in /Users/zilliz/miniforge3/lib/python3.10/site-packages (from pymilvus) (2.31.0)\n",
      "Requirement already satisfied: minio>=7.0.0 in /Users/zilliz/miniforge3/lib/python3.10/site-packages (from pymilvus) (7.1.17)\n",
      "Requirement already satisfied: PyYAML>=5.3 in /Users/zilliz/miniforge3/lib/python3.10/site-packages (from langchain) (6.0.1)\n",
      "Requirement already satisfied: SQLAlchemy<3,>=1.4 in /Users/zilliz/miniforge3/lib/python3.10/site-packages (from langchain) (2.0.19)\n",
      "Requirement already satisfied: aiohttp<4.0.0,>=3.8.3 in /Users/zilliz/miniforge3/lib/python3.10/site-packages (from langchain) (3.8.5)\n",
      "Requirement already satisfied: anyio<4.0 in /Users/zilliz/miniforge3/lib/python3.10/site-packages (from langchain) (3.7.1)\n",
      "Requirement already satisfied: async-timeout<5.0.0,>=4.0.0 in /Users/zilliz/miniforge3/lib/python3.10/site-packages (from langchain) (4.0.2)\n",
      "Requirement already satisfied: dataclasses-json<0.7,>=0.5.7 in /Users/zilliz/miniforge3/lib/python3.10/site-packages (from langchain) (0.5.14)\n",
      "Requirement already satisfied: jsonpatch<2.0,>=1.33 in /Users/zilliz/miniforge3/lib/python3.10/site-packages (from langchain) (1.33)\n",
      "Requirement already satisfied: langsmith<0.1.0,>=0.0.52 in /Users/zilliz/miniforge3/lib/python3.10/site-packages (from langchain) (0.0.56)\n",
      "Requirement already satisfied: numpy<2,>=1 in /Users/zilliz/miniforge3/lib/python3.10/site-packages (from langchain) (1.25.0)\n",
      "Requirement already satisfied: pydantic<3,>=1 in /Users/zilliz/miniforge3/lib/python3.10/site-packages (from langchain) (1.10.12)\n",
      "Requirement already satisfied: tenacity<9.0.0,>=8.1.0 in /Users/zilliz/miniforge3/lib/python3.10/site-packages (from langchain) (8.2.2)\n",
      "Requirement already satisfied: tqdm in /Users/zilliz/miniforge3/lib/python3.10/site-packages (from openai) (4.66.1)\n",
      "Requirement already satisfied: regex>=2022.1.18 in /Users/zilliz/miniforge3/lib/python3.10/site-packages (from tiktoken) (2023.6.3)\n",
      "Requirement already satisfied: attrs>=17.3.0 in /Users/zilliz/miniforge3/lib/python3.10/site-packages (from aiohttp<4.0.0,>=3.8.3->langchain) (23.1.0)\n",
      "Requirement already satisfied: charset-normalizer<4.0,>=2.0 in /Users/zilliz/miniforge3/lib/python3.10/site-packages (from aiohttp<4.0.0,>=3.8.3->langchain) (3.2.0)\n",
      "Requirement already satisfied: multidict<7.0,>=4.5 in /Users/zilliz/miniforge3/lib/python3.10/site-packages (from aiohttp<4.0.0,>=3.8.3->langchain) (6.0.4)\n",
      "Requirement already satisfied: yarl<2.0,>=1.0 in /Users/zilliz/miniforge3/lib/python3.10/site-packages (from aiohttp<4.0.0,>=3.8.3->langchain) (1.9.2)\n",
      "Requirement already satisfied: frozenlist>=1.1.1 in /Users/zilliz/miniforge3/lib/python3.10/site-packages (from aiohttp<4.0.0,>=3.8.3->langchain) (1.4.0)\n",
      "Requirement already satisfied: aiosignal>=1.1.2 in /Users/zilliz/miniforge3/lib/python3.10/site-packages (from aiohttp<4.0.0,>=3.8.3->langchain) (1.3.1)\n",
      "Requirement already satisfied: idna>=2.8 in /Users/zilliz/miniforge3/lib/python3.10/site-packages (from anyio<4.0->langchain) (3.4)\n",
      "Requirement already satisfied: sniffio>=1.1 in /Users/zilliz/miniforge3/lib/python3.10/site-packages (from anyio<4.0->langchain) (1.3.0)\n",
      "Requirement already satisfied: exceptiongroup in /Users/zilliz/miniforge3/lib/python3.10/site-packages (from anyio<4.0->langchain) (1.1.2)\n",
      "Requirement already satisfied: marshmallow<4.0.0,>=3.18.0 in /Users/zilliz/miniforge3/lib/python3.10/site-packages (from dataclasses-json<0.7,>=0.5.7->langchain) (3.20.1)\n",
      "Requirement already satisfied: typing-inspect<1,>=0.4.0 in /Users/zilliz/miniforge3/lib/python3.10/site-packages (from dataclasses-json<0.7,>=0.5.7->langchain) (0.9.0)\n",
      "Requirement already satisfied: python-dotenv in /Users/zilliz/miniforge3/lib/python3.10/site-packages (from environs<=9.5.0->pymilvus) (1.0.0)\n",
      "Requirement already satisfied: jsonpointer>=1.9 in /Users/zilliz/miniforge3/lib/python3.10/site-packages (from jsonpatch<2.0,>=1.33->langchain) (2.1)\n",
      "Requirement already satisfied: certifi in /Users/zilliz/miniforge3/lib/python3.10/site-packages (from minio>=7.0.0->pymilvus) (2023.7.22)\n",
      "Requirement already satisfied: urllib3 in /Users/zilliz/miniforge3/lib/python3.10/site-packages (from minio>=7.0.0->pymilvus) (2.0.3)\n",
      "Requirement already satisfied: python-dateutil>=2.8.1 in /Users/zilliz/miniforge3/lib/python3.10/site-packages (from pandas>=1.2.4->pymilvus) (2.8.2)\n",
      "Requirement already satisfied: pytz>=2020.1 in /Users/zilliz/miniforge3/lib/python3.10/site-packages (from pandas>=1.2.4->pymilvus) (2022.7)\n",
      "Requirement already satisfied: typing-extensions>=4.2.0 in /Users/zilliz/miniforge3/lib/python3.10/site-packages (from pydantic<3,>=1->langchain) (4.8.0)\n",
      "Requirement already satisfied: packaging>=17.0 in /Users/zilliz/miniforge3/lib/python3.10/site-packages (from marshmallow<4.0.0,>=3.18.0->dataclasses-json<0.7,>=0.5.7->langchain) (23.0)\n",
      "Requirement already satisfied: six>=1.5 in /Users/zilliz/miniforge3/lib/python3.10/site-packages (from python-dateutil>=2.8.1->pandas>=1.2.4->pymilvus) (1.16.0)\n",
      "Requirement already satisfied: mypy-extensions>=0.3.0 in /Users/zilliz/miniforge3/lib/python3.10/site-packages (from typing-inspect<1,>=0.4.0->dataclasses-json<0.7,>=0.5.7->langchain) (1.0.0)\n",
      "Installing collected packages: tiktoken, openai\n",
      "  Attempting uninstall: tiktoken\n",
      "    Found existing installation: tiktoken 0.4.0\n",
      "    Uninstalling tiktoken-0.4.0:\n",
      "      Successfully uninstalled tiktoken-0.4.0\n",
      "  Attempting uninstall: openai\n",
      "    Found existing installation: openai 0.27.8\n",
      "    Uninstalling openai-0.27.8:\n",
      "      Successfully uninstalled openai-0.27.8\n",
      "\u001b[31mERROR: pip's dependency resolver does not currently take into account all the packages that are installed. This behaviour is the source of the following dependency conflicts.\n",
      "jupyter-ai 2.0.0 requires importlib-metadata~=5.2.0, but you have importlib-metadata 6.8.0 which is incompatible.\n",
      "jupyter-ai 2.0.0 requires langchain==0.0.220, but you have langchain 0.0.327 which is incompatible.\n",
      "jupyter-ai 2.0.0 requires typing-extensions==4.5.0, but you have typing-extensions 4.8.0 which is incompatible.\u001b[0m\u001b[31m\n",
      "\u001b[0mSuccessfully installed openai-0.28.1 tiktoken-0.5.1\n"
     ]
    }
   ],
   "source": [
    "%pip install --upgrade pymilvus langchain openai tiktoken"
   ]
  },
  {
   "cell_type": "markdown",
   "metadata": {},
   "source": [
    "The dependencies are as follows:"
   ]
  },
  {
   "cell_type": "code",
   "execution_count": 1,
   "metadata": {},
   "outputs": [],
   "source": [
    "import os\n",
    "from langchain.embeddings.openai import OpenAIEmbeddings\n",
    "from langchain.vectorstores.zilliz import Zilliz\n",
    "from langchain.document_loaders import WebBaseLoader\n",
    "from langchain.text_splitter import RecursiveCharacterTextSplitter\n",
    "from langchain.chat_models import ChatOpenAI\n",
    "from langchain.schema.runnable import RunnablePassthrough\n",
    "from langchain.prompts import PromptTemplate"
   ]
  },
  {
   "cell_type": "markdown",
   "metadata": {},
   "source": [
    "## Parameters\n",
    "\n",
    "This section outlines the necessary steps to set up parameters for the code snippets that follow. Replace the default values with your own."
   ]
  },
  {
   "cell_type": "code",
   "execution_count": 2,
   "metadata": {},
   "outputs": [],
   "source": [
    "# Set up arguments\n",
    "\n",
    "# 1. Set up the name of the collection to be created.\n",
    "COLLECTION_NAME = 'doc_qa_db'\n",
    "\n",
    "# 2. Set up the dimension of the embeddings.\n",
    "DIMENSION = 768\n",
    "\n",
    "# 3. Set up the cohere api key\n",
    "OPENAI_API_KEY = \"sk-***************************************\"\n",
    "os.environ[\"OPENAI_API_KEY\"] = OPENAI_API_KEY\n",
    "\n",
    "# 4. Set up the connection parameters for your Zilliz Cloud cluster.\n",
    "URI = 'YOUR_CLUSTER_ENDPOINT'\n",
    "TOKEN = 'YOUR_CLUSTER_TOKEN'\n"
   ]
  },
  {
   "cell_type": "markdown",
   "metadata": {},
   "source": [
    "## Prepare data\n",
    "\n",
    "Before diving in, complete the following steps:\n",
    "\n",
    "- Load documents and split them at a proper size.\n",
    "\n",
    "- Embed the splits and store them in a vector store.\n",
    "\n",
    "- Edit the prompt and raise the questions.\n",
    "\n",
    "### Load documents\n",
    "\n",
    "In this section, we are using the **WebBaseLoader** to load online pages from [milvus.com](https://milvus.com), and split them into chunks with a proper size."
   ]
  },
  {
   "cell_type": "code",
   "execution_count": 3,
   "metadata": {},
   "outputs": [],
   "source": [
    "# Use the WebBaseLoader to load specified web pages into documents\n",
    "loader = WebBaseLoader([\n",
    "    'https://milvus.io/docs/overview.md',\n",
    "    'https://milvus.io/docs/release_notes.md',\n",
    "    'https://milvus.io/docs/architecture_overview.md',\n",
    "    'https://milvus.io/docs/four_layers.md',\n",
    "    'https://milvus.io/docs/main_components.md',\n",
    "    'https://milvus.io/docs/data_processing.md',\n",
    "    'https://milvus.io/docs/bitset.md',\n",
    "    'https://milvus.io/docs/boolean.md',\n",
    "    'https://milvus.io/docs/consistency.md',\n",
    "    'https://milvus.io/docs/coordinator_ha.md',\n",
    "    'https://milvus.io/docs/replica.md',\n",
    "    'https://milvus.io/docs/knowhere.md',\n",
    "    'https://milvus.io/docs/schema.md',\n",
    "    'https://milvus.io/docs/dynamic_schema.md',\n",
    "    'https://milvus.io/docs/json_data_type.md',\n",
    "    'https://milvus.io/docs/metric.md',\n",
    "    'https://milvus.io/docs/partition_key.md',\n",
    "    'https://milvus.io/docs/multi_tenancy.md',\n",
    "    'https://milvus.io/docs/timestamp.md',\n",
    "    'https://milvus.io/docs/users_and_roles.md',\n",
    "    'https://milvus.io/docs/index.md',\n",
    "    'https://milvus.io/docs/disk_index.md',\n",
    "    'https://milvus.io/docs/scalar_index.md',\n",
    "    'https://milvus.io/docs/performance_faq.md',\n",
    "    'https://milvus.io/docs/product_faq.md',\n",
    "    'https://milvus.io/docs/operational_faq.md',\n",
    "    'https://milvus.io/docs/troubleshooting.md',\n",
    "])\n",
    "\n",
    "docs = loader.load()\n",
    "\n",
    "# Split the documents into smaller chunks\n",
    "text_splitter = RecursiveCharacterTextSplitter(chunk_size=1024, chunk_overlap=0)\n",
    "all_splits = text_splitter.split_documents(docs)"
   ]
  },
  {
   "cell_type": "markdown",
   "metadata": {},
   "source": [
    "### Embed splits\n",
    "\n",
    "In this section, we are using OpenAI's embedding model to embed document segment splitted above, and stores them into a Zilliz Cloud cluster."
   ]
  },
  {
   "cell_type": "code",
   "execution_count": 4,
   "metadata": {},
   "outputs": [
    {
     "name": "stdout",
     "output_type": "stream",
     "text": [
      "4\n"
     ]
    }
   ],
   "source": [
    "embeddings = OpenAIEmbeddings()\n",
    "connection_args = { 'uri': URI, 'token': TOKEN }\n",
    "\n",
    "vector_store = Zilliz(\n",
    "    embedding_function=embeddings, \n",
    "    connection_args=connection_args,\n",
    "    collection_name=COLLECTION_NAME,\n",
    "    drop_old=True,\n",
    ").from_documents(\n",
    "    all_splits,\n",
    "    embedding=embeddings,\n",
    "    collection_name=COLLECTION_NAME,\n",
    "    connection_args=connection_args,\n",
    ")\n",
    "\n",
    "query = \"What are the main components of Milvus?\"\n",
    "docs = vector_store.similarity_search(query)\n",
    "\n",
    "print(len(docs))\n",
    "\n",
    "llm = ChatOpenAI(model_name=\"gpt-3.5-turbo\", temperature=0) \n",
    "retriever = vector_store.as_retriever()"
   ]
  },
  {
   "cell_type": "markdown",
   "metadata": {},
   "source": [
    "### Raise your question\n",
    "\n",
    "In this section, we customize a RAG chain and raise a question in our concern. You can change the question to the one you are interested in."
   ]
  },
  {
   "cell_type": "code",
   "execution_count": 6,
   "metadata": {},
   "outputs": [
    {
     "data": {
      "text/plain": [
       "AIMessage(content='IVF_FLAT is an index mechanism in Milvus that divides a vector space into clusters. It compares the distances between a target vector and the centers of all clusters to find the nearest clusters. Then, it compares the distances between the target vector and the vectors in the selected clusters to find the nearest vectors. IVF_FLAT demonstrates performance advantages when the number of vectors exceeds the value of nlist. Thanks for asking!')"
      ]
     },
     "execution_count": 6,
     "metadata": {},
     "output_type": "execute_result"
    }
   ],
   "source": [
    "template = \"\"\"Use the following pieces of context to answer the question at the end. \n",
    "If you don't know the answer, just say that you don't know, don't try to make up an answer. \n",
    "Use three sentences maximum and keep the answer as concise as possible. \n",
    "Always say \"thanks for asking!\" at the end of the answer. \n",
    "{context}\n",
    "Question: {question}\n",
    "Helpful Answer:\"\"\"\n",
    "rag_prompt = PromptTemplate.from_template(template)\n",
    "\n",
    "rag_chain = (\n",
    "    {\"context\": retriever, \"question\": RunnablePassthrough()}\n",
    "    | rag_prompt\n",
    "    | llm\n",
    ")\n",
    "\n",
    "rag_chain.invoke(\"Explain IVF_FLAT in Milvus.\")"
   ]
  }
 ],
 "metadata": {
  "kernelspec": {
   "display_name": "python",
   "language": "python",
   "name": "python3"
  },
  "language_info": {
   "codemirror_mode": {
    "name": "ipython",
    "version": 3
   },
   "file_extension": ".py",
   "mimetype": "text/x-python",
   "name": "python",
   "nbconvert_exporter": "python",
   "pygments_lexer": "ipython3",
   "version": "3.11.5"
  }
 },
 "nbformat": 4,
 "nbformat_minor": 2
}
